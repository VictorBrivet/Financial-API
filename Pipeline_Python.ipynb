{
 "cells": [
  {
   "cell_type": "markdown",
   "id": "8057e813",
   "metadata": {},
   "source": [
    "## Victor Brivet \n",
    "### ID : 93734\n",
    "### DATA INTEGRATION WITH APIS AND ETL PROCESSES"
   ]
  },
  {
   "cell_type": "markdown",
   "id": "d82b8c3a",
   "metadata": {},
   "source": [
    "Imports :"
   ]
  },
  {
   "cell_type": "code",
   "execution_count": 3,
   "id": "fd9cd693",
   "metadata": {},
   "outputs": [],
   "source": [
    "import requests\n",
    "import pandas as pd\n",
    "import numpy as np\n",
    "import yfinance as yf\n",
    "import matplotlib.pyplot as plt\n",
    "import seaborn as sns\n",
    "from sklearn.linear_model import LinearRegression\n",
    "from sklearn.metrics import mean_absolute_error, mean_squared_error\n",
    "import time"
   ]
  },
  {
   "cell_type": "markdown",
   "id": "f5bbd536",
   "metadata": {},
   "source": [
    "### Alpha-Vantage API : "
   ]
  },
  {
   "cell_type": "markdown",
   "id": "e5318eb8",
   "metadata": {},
   "source": [
    "#### EXTRACTION\n",
    "\n",
    "We define the API key and specify the currency pair (EUR/USD) for which we will retrieve foreign exchange data."
   ]
  },
  {
   "cell_type": "code",
   "execution_count": 4,
   "id": "0c88fc5d",
   "metadata": {},
   "outputs": [],
   "source": [
    "# API ID\n",
    "API_KEY = \"J2OZYB9ZL1RBF9ZP\"  \n",
    "FROM_SYMBOL = \"EUR\"       # Devise de départ\n",
    "TO_SYMBOL = \"USD\"         # Devise cible\n"
   ]
  },
  {
   "cell_type": "markdown",
   "id": "f7e88e88",
   "metadata": {},
   "source": [
    "We construct the request URL with the necessary parameters and send a GET request to retrieve the monthly foreign exchange data.\n",
    "If the request fails, an exception is raised to indicate the error. We use a scalable solution in the ID so it's easy to change the currencies."
   ]
  },
  {
   "cell_type": "code",
   "execution_count": 5,
   "id": "186c2d9a",
   "metadata": {},
   "outputs": [],
   "source": [
    "# URL\n",
    "url = f\"https://www.alphavantage.co/query?function=FX_MONTHLY&from_symbol={FROM_SYMBOL}&to_symbol={TO_SYMBOL}&apikey={API_KEY}\"\n",
    "\n",
    "# GET Request\n",
    "response = requests.get(url)\n",
    "if response.status_code != 200:\n",
    "    raise Exception(f\"Erreur API: {response.status_code} - {response.text}\")\n",
    "\n",
    "data = response.json()"
   ]
  },
  {
   "cell_type": "markdown",
   "id": "09f8b9d3",
   "metadata": {},
   "source": [
    "We extract the \"Time Series FX (Monthly)\" section from the API response, which contains the monthly exchange rate data."
   ]
  },
  {
   "cell_type": "code",
   "execution_count": 6,
   "id": "70990ec3",
   "metadata": {},
   "outputs": [],
   "source": [
    "fx_data = data[\"Time Series FX (Monthly)\"]"
   ]
  },
  {
   "cell_type": "markdown",
   "id": "09a2374f",
   "metadata": {},
   "source": [
    "#### TRANSFORMATION\n",
    "\n",
    "##### DataFrame Creation and Cleaning\n",
    "We convert the extracted JSON data into a Pandas DataFrame, ensuring proper formatting:\n",
    "- Convert the index (dates) to `datetime` format.\n",
    "- Rename columns for clarity (`Open`, `High`, `Low`, `Close`).\n",
    "- Convert values to `float` for numerical analysis.\n",
    "- Sort the DataFrame by date in ascending order.\n",
    "\n",
    "##### Data Quality Checks\n",
    "We perform key quality checks:\n",
    "- **Missing Values:** Identify if any data points are missing.\n",
    "- **Outlier Detection:** Check for abnormal exchange rates (e.g., values outside the expected range of 0.5 to 2.0).\n"
   ]
  },
  {
   "cell_type": "code",
   "execution_count": 7,
   "id": "e817ed7b",
   "metadata": {},
   "outputs": [
    {
     "name": "stdout",
     "output_type": "stream",
     "text": [
      "Missing Values check :\n",
      " Open     0\n",
      "High     0\n",
      "Low      0\n",
      "Close    0\n",
      "dtype: int64\n"
     ]
    }
   ],
   "source": [
    "## Convert\n",
    "df = pd.DataFrame.from_dict(fx_data, orient=\"index\")\n",
    "df.index = pd.to_datetime(df.index)  # Convertir les dates\n",
    "df.columns = [\"Open\", \"High\", \"Low\", \"Close\"]\n",
    "df = df.astype(float)  # Convertir les valeurs en float\n",
    "df = df.sort_index()  # Trier les dates dans l'ordre croissant\n",
    "\n",
    "## Missing Values\n",
    "missing_values = df.isnull().sum()\n",
    "print(\"Missing Values check :\\n\", missing_values)\n",
    "\n",
    "\n",
    "## Outlier Detection\n",
    "for col in [\"Open\", \"High\", \"Low\", \"Close\"]:\n",
    "    if (df[col] < 0.5).any() or (df[col] > 2.0).any():\n",
    "        print(f\"Warning : Outliers {col} !\")\n",
    "\n",
    "\n"
   ]
  },
  {
   "cell_type": "markdown",
   "id": "adfa29dc",
   "metadata": {},
   "source": [
    "To enhance our analysis, we compute several key metrics based on the FX monthly data:\n",
    "\n",
    "1. **Monthly Change (Open to Close) %**  \n",
    "   - Measures the percentage change from the opening to the closing price.  \n",
    "   - Formula: `((Close - Open) / Open) * 100`\n",
    "\n",
    "2. **Range %**  \n",
    "   - Represents the percentage difference between the highest and lowest price within the month.  \n",
    "   - Formula: `((High - Low) / Low) * 100`\n",
    "\n",
    "3. **Closing Momentum**  \n",
    "   - Indicates whether the closing price is closer to the highest or lowest price of the month.  \n",
    "   - Formula: `(Close - Low) / (High - Low)`\n",
    "\n",
    "4. **Volatility Index**  \n",
    "   - Measures the relative volatility of the exchange rate based on the high-low range.  \n",
    "   - Formula: `((High - Low) / Close) * 100`\n",
    "\n",
    "5. **Momentum Score**  \n",
    "   - Evaluates the strength of the price movement relative to its range.  \n",
    "   - Formula: `(Close - Open) / (High - Low)`\n",
    "\n",
    "These calculated indicators help to better understand price movements, market volatility, and potential trading opportunities."
   ]
  },
  {
   "cell_type": "code",
   "execution_count": 8,
   "id": "e3521dc6",
   "metadata": {},
   "outputs": [],
   "source": [
    "## Monthly Change (Open to Close) %\n",
    "df[\"Monthly Change (Open to Close) %\"] = ((df[\"Close\"] - df[\"Open\"]) / df[\"Open\"]) * 100\n",
    "\n",
    "## Range %\n",
    "df[\"Range %\"] = ((df[\"High\"] - df[\"Low\"]) / df[\"Low\"]) * 100\n",
    "\n",
    "## Closing Momentum\n",
    "df[\"Closing Momentum\"] = (df[\"Close\"] - df[\"Low\"]) / (df[\"High\"] - df[\"Low\"])\n",
    "\n",
    "## Volatility Index\n",
    "df[\"Volatility Index\"] = ((df[\"High\"] - df[\"Low\"]) / df[\"Close\"]) * 100\n",
    "\n",
    "## Momentum Score\n",
    "df[\"Momentum Score\"] = (df[\"Close\"] - df[\"Open\"]) / (df[\"High\"] - df[\"Low\"])"
   ]
  },
  {
   "cell_type": "markdown",
   "id": "78a71022",
   "metadata": {},
   "source": [
    "Before exporting the data to a database, we rename certain columns to avoid conflicts with SQL reserved keywords and improve readability:\n",
    "\n",
    "- **\"Open\" → \"open_price\"**  \n",
    "- **\"High\" → \"high_price\"**  \n",
    "- **\"Low\" → \"low_price\"**  \n",
    "- **\"Close\" → \"close_price\"**  \n",
    "- **\"Range\" → \"range_value\"** (avoiding conflicts with the SQL `RANGE` function)\n",
    "\n",
    "After renaming, we print the column names to verify the changes."
   ]
  },
  {
   "cell_type": "code",
   "execution_count": 9,
   "id": "fdbad8af",
   "metadata": {},
   "outputs": [
    {
     "name": "stdout",
     "output_type": "stream",
     "text": [
      "Index(['open_price', 'high_price', 'low_price', 'close_price',\n",
      "       'Monthly Change (Open to Close) %', 'Range %', 'Closing Momentum',\n",
      "       'Volatility Index', 'Momentum Score'],\n",
      "      dtype='object')\n"
     ]
    }
   ],
   "source": [
    "## Renaming\n",
    "df.rename(columns={\n",
    "    \"Open\": \"open_price\",\n",
    "    \"High\": \"high_price\",\n",
    "    \"Low\": \"low_price\",\n",
    "    \"Close\": \"close_price\",\n",
    "    \"Range\": \"range_value\"\n",
    "}, inplace=True)\n",
    "\n",
    "## Check new names\n",
    "print(df.columns)"
   ]
  },
  {
   "cell_type": "markdown",
   "id": "b92a3e38",
   "metadata": {},
   "source": [
    "##### Preparing Data for SQL Export\n",
    "Before exporting to a SQL database, we ensure the DataFrame is correctly formatted:\n",
    "\n",
    "1. **Reset Index & Convert Date Column**  \n",
    "   - Since the date was the index, we reset it as a regular column (`Date`).  \n",
    "   - Renamed `\"index\"` to `\"Date\"` for clarity.  \n",
    "   - Converted `\"Date\"` to `datetime64[ns]` for SQL compatibility.\n",
    "\n",
    "2. **Convert Numeric Columns & Round Values**  \n",
    "   - Ensures all numerical values are stored as `float`.  \n",
    "   - Rounds values to 4 decimal places to maintain precision while reducing storage size.\n",
    "\n",
    "3. **Final Data Type Verification**  \n",
    "   - Prints the data types to confirm correct formatting before exporting to the database."
   ]
  },
  {
   "cell_type": "code",
   "execution_count": 10,
   "id": "1822eb5d",
   "metadata": {},
   "outputs": [
    {
     "name": "stdout",
     "output_type": "stream",
     "text": [
      "Date                                datetime64[ns]\n",
      "open_price                                 float64\n",
      "high_price                                 float64\n",
      "low_price                                  float64\n",
      "close_price                                float64\n",
      "Monthly Change (Open to Close) %           float64\n",
      "Range %                                    float64\n",
      "Closing Momentum                           float64\n",
      "Volatility Index                           float64\n",
      "Momentum Score                             float64\n",
      "dtype: object\n"
     ]
    }
   ],
   "source": [
    "## Reset Index & Convert Date Column\n",
    "df.reset_index(inplace=True)\n",
    "df.rename(columns={\"index\": \"Date\"}, inplace=True)\n",
    "\n",
    "## Convert Numeric Columns & Round Values\n",
    "df[\"Date\"] = df[\"Date\"].astype(\"datetime64[ns]\")  # Format SQL-compatible\n",
    "df.iloc[:, 1:] = df.iloc[:, 1:].astype(float).round(4)  # Arrondir toutes les valeurs numériques\n",
    "\n",
    "## Final Data Type Verification\n",
    "print(df.dtypes)\n"
   ]
  },
  {
   "cell_type": "markdown",
   "id": "a0bfbfd1",
   "metadata": {},
   "source": [
    "##### Standardizing Column Names for SQL Compatibility\n",
    "To ensure smooth integration with SQL databases, we apply the following transformations to column names:\n",
    "\n",
    "1. **Replace Spaces with Underscores (`_`)**  \n",
    "   - Prevents issues when referencing columns in SQL queries.\n",
    "\n",
    "2. **Convert Column Names to Lowercase**  \n",
    "   - Ensures consistency and avoids case sensitivity issues in certain SQL environments.\n",
    "\n",
    "3. **Final Verification**  \n",
    "   - Prints the modified column names to confirm the changes.\n"
   ]
  },
  {
   "cell_type": "code",
   "execution_count": 11,
   "id": "9dc7b1b5",
   "metadata": {},
   "outputs": [
    {
     "name": "stdout",
     "output_type": "stream",
     "text": [
      "Index(['date', 'open_price', 'high_price', 'low_price', 'close_price',\n",
      "       'monthly_change_(open_to_close)_%', 'range_%', 'closing_momentum',\n",
      "       'volatility_index', 'momentum_score'],\n",
      "      dtype='object')\n"
     ]
    }
   ],
   "source": [
    "# Replace Spaces with Underscores (`_`)\n",
    "df.columns = df.columns.str.replace(\" \", \"_\").str.lower()\n",
    "\n",
    "# Convert Column Names to Lowercas\n",
    "print(df.columns)\n",
    "\n"
   ]
  },
  {
   "cell_type": "markdown",
   "id": "4e11e4e1",
   "metadata": {},
   "source": [
    "#### LOAD\n",
    "\n",
    "The cleaned and processed DataFrame is exported to a CSV file for further use or database integration.\n",
    "\n",
    "1. **File Name:** `\"API.csv\"`\n",
    "2. **Separator:** `\",\"` (Comma-separated values, standard format)\n",
    "3. **Encoding:** `\"UTF-8\"` to ensure compatibility with different systems.\n",
    "4. **Index:** `False` (Prevents Pandas from adding an extra index column).\n",
    "\n",
    "A success message confirms the file has been saved correctly."
   ]
  },
  {
   "cell_type": "code",
   "execution_count": 12,
   "id": "82ac1c5c",
   "metadata": {},
   "outputs": [
    {
     "name": "stdout",
     "output_type": "stream",
     "text": [
      "Export successful Alpha_Vantage_Forex.csv\n"
     ]
    }
   ],
   "source": [
    "csv_path = \"Alpha_Vantage_Forex.csv\"\n",
    "df.to_csv(csv_path, sep=\",\", encoding=\"utf-8\", index=False)\n",
    "\n",
    "print(f\"Export successful {csv_path}\")"
   ]
  },
  {
   "cell_type": "markdown",
   "id": "7d78edab",
   "metadata": {},
   "source": [
    "### YAHOO FINANCE"
   ]
  },
  {
   "cell_type": "markdown",
   "id": "de83a736",
   "metadata": {},
   "source": [
    "#### EXTRACTION\n",
    "\n",
    "We don't need an API key it's native.\n",
    "\n",
    "Function: Download Stock Price Data\n",
    "This function fetches historical stock price data using the `yfinance` library.\n",
    "\n",
    "**Parameters:**\n",
    "- **`ticker`** *(str)* → The stock symbol (e.g., \"MSFT\" for Microsoft).\n",
    "- **`start`** *(str)* → Start date in `\"YYYY-MM-DD\"` format.\n",
    "- **`end`** *(str)* → End date in `\"YYYY-MM-DD\"` format.\n"
   ]
  },
  {
   "cell_type": "code",
   "execution_count": 13,
   "id": "99ab6739",
   "metadata": {},
   "outputs": [],
   "source": [
    "def get_stock_data(ticker, start, end):\n",
    "    stock_data = yf.download(ticker, start=start, end=end)\n",
    "    return stock_data\n"
   ]
  },
  {
   "cell_type": "markdown",
   "metadata": {},
   "source": [
    "##### User Input: Stock Tickers and Date Range\n",
    "\n",
    "**This section allows the user to specify:**\n",
    "1. **The list of stock tickers** to analyze.\n",
    "2. **The start and end date** for fetching historical data.\n",
    "\n",
    "**Stock Selection**\n",
    "- The user can either **manually enter tickers** or use a predefined list.\n",
    "- Here, a predefined list of **CAC 40 stock symbols** is used.\n",
    "\n",
    "**Date Range Selection**\n",
    "- Users can input a **custom start and end date**.\n",
    "- **Example range:** `\"2010-01-01\"` to `\"2025-01-01\"`.\n",
    "\n",
    "**Validation**\n",
    "- Ensures that the start date is **earlier** than the end date.\n",
    "- If not, it raises an error:  \n",
    "  ```python\n",
    "  ValueError(\"La date de début doit être antérieure à la date de fin.\")\n"
   ]
  },
  {
   "cell_type": "code",
   "execution_count": 14,
   "id": "ac91c33f",
   "metadata": {},
   "outputs": [],
   "source": [
    "# Prompt the user to enter the stock tickers to analyze\n",
    "# tickers = input(\"Enter the stock tickers separated by spaces (e.g., MC.PA AIR.PA OR.PA SAN.PA BNP.PA): \").split()\n",
    "tickers = [\n",
    "    \"AC.PA\", \"AI.PA\", \"AIR.PA\", \"MT.AS\", \"CS.PA\", \"BNP.PA\", \"EN.PA\", \"CAP.PA\",\n",
    "    \"CA.PA\", \"ACA.PA\", \"BN.PA\", \"DSY.PA\", \"EDEN.PA\", \"ENGI.PA\", \"EL.PA\", \"ERF.PA\",\n",
    "    \"RMS.PA\", \"KER.PA\", \"OR.PA\", \"LR.PA\", \"MC.PA\", \"ML.PA\", \"ORA.PA\", \"RI.PA\",\n",
    "    \"PUB.PA\", \"RNO.PA\", \"SAF.PA\", \"SGO.PA\", \"SAN.PA\", \"SU.PA\", \"GLE.PA\", \"STLAP.PA\",\n",
    "    \"STMPA.PA\", \"TEP.PA\", \"HO.PA\", \"TTE.PA\", \"URW.PA\", \"VIE.PA\", \"DG.PA\", \"VIV.PA\"\n",
    "]\n",
    "\n",
    "# Choose the time period\n",
    "# start_date = input(\"Enter the start date (YYYY-MM-DD, e.g., 2010-01-01) : \").strip()\n",
    "# end_date = input(\"Enter the end date (YYYY-MM-DD, e.g., 2024-01-01) : \").strip()\n",
    "start_date = '2010-01-01'\n",
    "end_date = '2025-01-01'\n",
    "\n",
    "# Validate the entered dates\n",
    "if start_date >= end_date:\n",
    "    raise ValueError(\"The start date must be earlier than the end date.\")\n"
   ]
  },
  {
   "cell_type": "markdown",
   "id": "6bad300f",
   "metadata": {},
   "source": [
    "In this section, we retrieve historical stock price data for the selected tickers and format it for further analysis.\n",
    "\n",
    "1. **Download Historical Data**  \n",
    "   - Uses the `get_stock_data()` function to fetch stock prices from Yahoo Finance for the specified tickers and date range.\n",
    "\n",
    "2. **Reshape Data for Tableau Compatibility**  \n",
    "   - The dataset is **stacked** to transform it into a **long format**.\n",
    "   - **`reset_index()`** ensures a clean structure for visualization.\n",
    "   - **Column names are dynamically adjusted** to prevent errors."
   ]
  },
  {
   "cell_type": "code",
   "execution_count": 15,
   "id": "1d810850",
   "metadata": {},
   "outputs": [
    {
     "name": "stdout",
     "output_type": "stream",
     "text": [
      "YF.download() has changed argument auto_adjust default to True\n"
     ]
    },
    {
     "name": "stderr",
     "output_type": "stream",
     "text": [
      "[*********************100%***********************]  40 of 40 completed\n"
     ]
    }
   ],
   "source": [
    "# Download historical stock price data\n",
    "stock_prices = get_stock_data(tickers, start_date, end_date)\n",
    "\n",
    "# Reshape the data for Tableau compatibility\n",
    "stock_prices = stock_prices.stack(future_stack=True).reset_index()\n",
    "stock_prices.columns = [\"Date\", \"Ticker\"] + list(stock_prices.columns[2:])  # Dynamically rename to avoid errors\n"
   ]
  },
  {
   "cell_type": "markdown",
   "id": "44745cac",
   "metadata": {},
   "source": [
    "#### TRANSFORMATION\n",
    "\n",
    "This section computes essential financial indicators to analyze stock performance and risk.\n",
    "\n",
    "1. **Daily Return (`Daily Return`)**  \n",
    "   - Measures the percentage change in stock price from one day to the next.  \n",
    "   - Formula: `pct_change(fill_method=None)`\n",
    "\n",
    "2. **Cumulative Return (`Cumulative Return`)**  \n",
    "   - Tracks the compounded return of an asset over time.  \n",
    "   - Formula: `(1 + Daily Return).cumprod()`\n",
    "\n",
    "3. **Simple Moving Averages (`SMA_50`, `SMA_200`)**  \n",
    "   - Computes the **50-day and 200-day** moving averages to analyze trends.  \n",
    "   - Helps identify **short-term and long-term** trends.\n",
    "\n",
    "4. **Risk-Free Rate Conversion**  \n",
    "   - Assumes an **annual risk-free rate of 2%**.  \n",
    "   - Converts it into a **daily rate**: `(1 + rate)^(1/252) - 1`\n",
    "\n",
    "5. **Sharpe Ratio Calculation (`Sharpe Ratio`)**  \n",
    "   - Measures the **risk-adjusted return** of an asset.  \n",
    "   - Formula:  \n",
    "     \\[\n",
    "     \\frac{\\text{Mean(Daily Return)} - \\text{Risk-Free Rate}}{\\text{Standard Deviation(Daily Return)}}\n",
    "     \\]\n",
    "   - A higher Sharpe Ratio indicates **better risk-adjusted returns**.\n",
    "\n",
    "6. **Handling Missing Values (`NaN`)**  \n",
    "   - Uses **backfill (`bfill()`)** to fill missing values based on the next available data.  \n",
    "   - Replaces remaining `NaN` values with `0` as a final safeguard.\n",
    "\n",
    "These indicators help evaluate stock performance, momentum, and volatility for **data-driven investment decisions**.\n"
   ]
  },
  {
   "cell_type": "code",
   "execution_count": 16,
   "id": "4ccf40fc",
   "metadata": {},
   "outputs": [],
   "source": [
    "# Calculate daily return\n",
    "stock_prices[\"Daily Return\"] = stock_prices.groupby(\"Ticker\")[\"Close\"].pct_change(fill_method=None)\n",
    "\n",
    "# Calculate cumulative return\n",
    "stock_prices[\"Cumulative Return\"] = (1 + stock_prices[\"Daily Return\"]).groupby(stock_prices[\"Ticker\"]).cumprod()\n",
    "\n",
    "# Compute 50-day and 200-day simple moving averages (SMA)\n",
    "stock_prices[\"SMA_50\"] = stock_prices.groupby(\"Ticker\")[\"Close\"].rolling(window=50).mean().reset_index(level=0, drop=True)\n",
    "stock_prices[\"SMA_200\"] = stock_prices.groupby(\"Ticker\")[\"Close\"].rolling(window=200).mean().reset_index(level=0, drop=True)\n",
    "\n",
    "# Define the annual risk-free rate (e.g., 2%)\n",
    "risk_free_rate_annual = 0.02  # 2%\n",
    "\n",
    "# Convert to daily risk-free rate\n",
    "risk_free_rate_daily = (1 + risk_free_rate_annual) ** (1/252) - 1  \n",
    "\n",
    "# Compute the adjusted Sharpe Ratio\n",
    "stock_prices[\"Sharpe Ratio\"] = stock_prices.groupby(\"Ticker\")[\"Daily Return\"].transform(\n",
    "    lambda x: (x.mean() - risk_free_rate_daily) / (x.std() + 1e-8)\n",
    ")\n",
    "\n",
    "# Handle missing values\n",
    "stock_prices.bfill(inplace=True)  # Backfill to prevent data loss\n",
    "stock_prices.fillna(0, inplace=True)  # Final safeguard against NaN values\n"
   ]
  },
  {
   "cell_type": "markdown",
   "id": "71dd13ec",
   "metadata": {},
   "source": [
    "##### Fetching and Merging Sector & Industry Data\n",
    "This section retrieves **sector** and **industry** information for each stock ticker using the `yfinance` API and merges it with the existing stock price dataset.\n",
    "\n",
    " **Steps:**\n",
    "1. **Create a dictionary to store sector & industry data.**\n",
    "   - Loops through each ticker.\n",
    "   - Fetches `sector` and `industry` information from Yahoo Finance.\n",
    "   - Stores the data in a dictionary (`sector_industry_dict`).\n",
    "   - If no data is available, it defaults to `\"Unknown\"`.\n",
    "\n",
    "2. **Handle exceptions gracefully.**\n",
    "   - If an error occurs while fetching the data, it prints the issue but continues processing.\n",
    "\n",
    "3. **Convert the dictionary into a DataFrame.**\n",
    "   - The dictionary is transformed into a **Pandas DataFrame**.\n",
    "   - Column names are set to `\"Ticker\"`, `\"Sector\"`, and `\"Industry\"`.\n",
    "\n",
    "4. **Merge with the stock price dataset.**\n",
    "   - Uses a **left join** to ensure that stock price data remains intact while adding sector & industry information.\n",
    "\n",
    "This allows for **sector-based** and **industry-based** analysis when evaluating stock performance.\n"
   ]
  },
  {
   "cell_type": "code",
   "execution_count": 17,
   "id": "a26d1721",
   "metadata": {},
   "outputs": [],
   "source": [
    "# Dictionary to store sector and industry data\n",
    "sector_industry_dict = {}\n",
    "\n",
    "for ticker in tickers:\n",
    "    try:\n",
    "        stock = yf.Ticker(ticker)\n",
    "        info = stock.info\n",
    "        sector = info.get(\"sector\", \"Unknown\")   # Retrieve sector\n",
    "        industry = info.get(\"industry\", \"Unknown\")  # Retrieve industry\n",
    "        sector_industry_dict[ticker] = {\"Sector\": sector, \"Industry\": industry}\n",
    "    except Exception as e:\n",
    "        print(f\"Error fetching data for {ticker}: {e}\")\n",
    "\n",
    "# Convert the dictionary into a DataFrame\n",
    "sector_industry_df = pd.DataFrame.from_dict(sector_industry_dict, orient=\"index\")\n",
    "sector_industry_df.reset_index(inplace=True)\n",
    "sector_industry_df.columns = [\"Ticker\", \"Sector\", \"Industry\"]\n",
    "\n",
    "# Merge with stock prices dataset\n",
    "stock_prices = stock_prices.merge(sector_industry_df, on=\"Ticker\", how=\"left\")\n"
   ]
  },
  {
   "cell_type": "markdown",
   "id": "666fc019",
   "metadata": {},
   "source": [
    "**Data Cleaning & Formatting for SQL**\n",
    "\n",
    "Before inserting the dataset into PostgreSQL, we ensure it is **properly formatted and cleaned**.\n",
    "\n",
    "**Steps:**\n",
    "1. **Convert the Date Column**  \n",
    "   - If the `\"Date\"` column exists, it is converted into `datetime64` format for SQL compatibility.\n",
    "\n",
    "2. **Ensure Numerical Columns are Floats**  \n",
    "   - Selects all numeric columns and converts them into `float`, rounding to **4 decimal places** for precision.\n",
    "\n",
    "3. **Handle Missing Values (`NaN`)**  \n",
    "   - Replaces missing values with `NULL` to be properly stored in PostgreSQL.\n",
    "\n",
    "4. **Rename Columns for SQL Compatibility**  \n",
    "   - Spaces are replaced with **underscores (`_`)**.  \n",
    "   - Column names are **lowercased** to avoid case-sensitivity issues.\n",
    "\n",
    "5. **Final Verification**  \n",
    "   - Prints the **data types** to confirm everything is correctly formatted before SQL insertion.\n"
   ]
  },
  {
   "cell_type": "code",
   "execution_count": 18,
   "id": "0bc133b3",
   "metadata": {},
   "outputs": [
    {
     "name": "stdout",
     "output_type": "stream",
     "text": [
      "\n",
      " Data is ready for SQL:\n",
      "date                 datetime64[ns]\n",
      "ticker                       object\n",
      "close                       float64\n",
      "high                        float64\n",
      "low                         float64\n",
      "open                        float64\n",
      "volume                      float64\n",
      "daily_return                float64\n",
      "cumulative_return           float64\n",
      "sma_50                      float64\n",
      "sma_200                     float64\n",
      "sharpe_ratio                float64\n",
      "sector                       object\n",
      "industry                     object\n",
      "dtype: object\n"
     ]
    }
   ],
   "source": [
    "# Convert the Date column to datetime format (if it exists)\n",
    "if \"Date\" in stock_prices.columns:\n",
    "    stock_prices[\"Date\"] = pd.to_datetime(stock_prices[\"Date\"])\n",
    "\n",
    "# Convert all numerical columns to float and round to 4 decimal places\n",
    "numerical_cols = stock_prices.select_dtypes(include=['number']).columns\n",
    "stock_prices[numerical_cols] = stock_prices[numerical_cols].astype(float).round(4)\n",
    "\n",
    "# Replace NaN values with np.nan (which will be converted to NULL in SQL)\n",
    "stock_prices.fillna(value=np.nan, inplace=True)\n",
    "\n",
    "# Rename columns to be SQL-friendly (no spaces, lowercase)\n",
    "stock_prices.columns = stock_prices.columns.str.replace(\" \", \"_\").str.lower()\n",
    "\n",
    "# Verify after cleaning\n",
    "print(\"\\n Data is ready for SQL:\")\n",
    "print(stock_prices.dtypes)"
   ]
  },
  {
   "cell_type": "markdown",
   "id": "5b9c32cc",
   "metadata": {},
   "source": [
    "#### LOAD\n",
    "The final processed dataset, which includes **stock prices, financial metrics, sector, and industry data**, is exported to a CSV file for further analysis.\n",
    "\n",
    "**Key Features of the Exported File:**\n",
    "- **File Name:** `\"stock_data_with_sectors.csv\"`\n",
    "- **Data Included:**\n",
    "  - Stock price data (`Open`, `Close`, `Volume`, etc.).\n",
    "  - Computed financial indicators (`Daily Return`, `SMA`, `Sharpe Ratio`, etc.).\n",
    "  - Sector and industry information for each stock.\n",
    "\n",
    "A confirmation message is printed once the file is successfully created.\n"
   ]
  },
  {
   "cell_type": "code",
   "execution_count": 19,
   "id": "218b6023",
   "metadata": {},
   "outputs": [
    {
     "name": "stdout",
     "output_type": "stream",
     "text": [
      "CSV file created: 'stock_data_with_sectors.csv' including Sector and Industry information.\n"
     ]
    }
   ],
   "source": [
    "# Export the final dataset to CSV\n",
    "stock_prices.to_csv(\"stock_data_with_sectors.csv\", index=False)\n",
    "\n",
    "print(\"CSV file created: 'stock_data_with_sectors.csv' including Sector and Industry information.\")\n"
   ]
  },
  {
   "cell_type": "code",
   "execution_count": 20,
   "id": "575442a9",
   "metadata": {},
   "outputs": [
    {
     "data": {
      "text/html": [
       "<div>\n",
       "<style scoped>\n",
       "    .dataframe tbody tr th:only-of-type {\n",
       "        vertical-align: middle;\n",
       "    }\n",
       "\n",
       "    .dataframe tbody tr th {\n",
       "        vertical-align: top;\n",
       "    }\n",
       "\n",
       "    .dataframe thead th {\n",
       "        text-align: right;\n",
       "    }\n",
       "</style>\n",
       "<table border=\"1\" class=\"dataframe\">\n",
       "  <thead>\n",
       "    <tr style=\"text-align: right;\">\n",
       "      <th></th>\n",
       "      <th>date</th>\n",
       "      <th>ticker</th>\n",
       "      <th>close</th>\n",
       "      <th>high</th>\n",
       "      <th>low</th>\n",
       "      <th>open</th>\n",
       "      <th>volume</th>\n",
       "      <th>daily_return</th>\n",
       "      <th>cumulative_return</th>\n",
       "      <th>sma_50</th>\n",
       "      <th>sma_200</th>\n",
       "      <th>sharpe_ratio</th>\n",
       "      <th>sector</th>\n",
       "      <th>industry</th>\n",
       "    </tr>\n",
       "  </thead>\n",
       "  <tbody>\n",
       "    <tr>\n",
       "      <th>0</th>\n",
       "      <td>2010-01-04</td>\n",
       "      <td>AC.PA</td>\n",
       "      <td>21.0700</td>\n",
       "      <td>21.0700</td>\n",
       "      <td>20.5987</td>\n",
       "      <td>20.6312</td>\n",
       "      <td>868104.0</td>\n",
       "      <td>-0.0062</td>\n",
       "      <td>0.9938</td>\n",
       "      <td>20.1172</td>\n",
       "      <td>20.9121</td>\n",
       "      <td>0.0162</td>\n",
       "      <td>Consumer Cyclical</td>\n",
       "      <td>Lodging</td>\n",
       "    </tr>\n",
       "    <tr>\n",
       "      <th>1</th>\n",
       "      <td>2010-01-04</td>\n",
       "      <td>ACA.PA</td>\n",
       "      <td>6.1843</td>\n",
       "      <td>6.1963</td>\n",
       "      <td>5.9866</td>\n",
       "      <td>6.0035</td>\n",
       "      <td>6105758.0</td>\n",
       "      <td>-0.0062</td>\n",
       "      <td>0.9938</td>\n",
       "      <td>20.1172</td>\n",
       "      <td>20.9121</td>\n",
       "      <td>0.0163</td>\n",
       "      <td>Financial Services</td>\n",
       "      <td>Banks - Regional</td>\n",
       "    </tr>\n",
       "    <tr>\n",
       "      <th>2</th>\n",
       "      <td>2010-01-04</td>\n",
       "      <td>AI.PA</td>\n",
       "      <td>30.8401</td>\n",
       "      <td>30.8401</td>\n",
       "      <td>30.3400</td>\n",
       "      <td>30.3400</td>\n",
       "      <td>1114568.0</td>\n",
       "      <td>-0.0062</td>\n",
       "      <td>0.9938</td>\n",
       "      <td>20.1172</td>\n",
       "      <td>20.9121</td>\n",
       "      <td>0.0330</td>\n",
       "      <td>Basic Materials</td>\n",
       "      <td>Specialty Chemicals</td>\n",
       "    </tr>\n",
       "    <tr>\n",
       "      <th>3</th>\n",
       "      <td>2010-01-04</td>\n",
       "      <td>AIR.PA</td>\n",
       "      <td>11.2867</td>\n",
       "      <td>11.3351</td>\n",
       "      <td>11.2141</td>\n",
       "      <td>11.2948</td>\n",
       "      <td>2496013.0</td>\n",
       "      <td>-0.0062</td>\n",
       "      <td>0.9938</td>\n",
       "      <td>20.1172</td>\n",
       "      <td>20.9121</td>\n",
       "      <td>0.0390</td>\n",
       "      <td>Industrials</td>\n",
       "      <td>Aerospace &amp; Defense</td>\n",
       "    </tr>\n",
       "    <tr>\n",
       "      <th>4</th>\n",
       "      <td>2010-01-04</td>\n",
       "      <td>BN.PA</td>\n",
       "      <td>27.8601</td>\n",
       "      <td>27.9310</td>\n",
       "      <td>27.5249</td>\n",
       "      <td>27.5410</td>\n",
       "      <td>3685834.0</td>\n",
       "      <td>-0.0062</td>\n",
       "      <td>0.9938</td>\n",
       "      <td>20.1172</td>\n",
       "      <td>20.9121</td>\n",
       "      <td>0.0173</td>\n",
       "      <td>Consumer Defensive</td>\n",
       "      <td>Packaged Foods</td>\n",
       "    </tr>\n",
       "    <tr>\n",
       "      <th>...</th>\n",
       "      <td>...</td>\n",
       "      <td>...</td>\n",
       "      <td>...</td>\n",
       "      <td>...</td>\n",
       "      <td>...</td>\n",
       "      <td>...</td>\n",
       "      <td>...</td>\n",
       "      <td>...</td>\n",
       "      <td>...</td>\n",
       "      <td>...</td>\n",
       "      <td>...</td>\n",
       "      <td>...</td>\n",
       "      <td>...</td>\n",
       "      <td>...</td>\n",
       "    </tr>\n",
       "    <tr>\n",
       "      <th>153675</th>\n",
       "      <td>2024-12-31</td>\n",
       "      <td>TEP.PA</td>\n",
       "      <td>83.1200</td>\n",
       "      <td>83.9000</td>\n",
       "      <td>81.8800</td>\n",
       "      <td>81.8800</td>\n",
       "      <td>92904.0</td>\n",
       "      <td>0.0171</td>\n",
       "      <td>4.5523</td>\n",
       "      <td>90.0856</td>\n",
       "      <td>96.5467</td>\n",
       "      <td>0.0261</td>\n",
       "      <td>Industrials</td>\n",
       "      <td>Specialty Business Services</td>\n",
       "    </tr>\n",
       "    <tr>\n",
       "      <th>153676</th>\n",
       "      <td>2024-12-31</td>\n",
       "      <td>TTE.PA</td>\n",
       "      <td>52.5800</td>\n",
       "      <td>52.5800</td>\n",
       "      <td>51.7918</td>\n",
       "      <td>51.8411</td>\n",
       "      <td>1503880.0</td>\n",
       "      <td>0.0146</td>\n",
       "      <td>2.7080</td>\n",
       "      <td>54.9660</td>\n",
       "      <td>59.9934</td>\n",
       "      <td>0.0193</td>\n",
       "      <td>Energy</td>\n",
       "      <td>Oil &amp; Gas Integrated</td>\n",
       "    </tr>\n",
       "    <tr>\n",
       "      <th>153677</th>\n",
       "      <td>2024-12-31</td>\n",
       "      <td>URW.PA</td>\n",
       "      <td>72.7200</td>\n",
       "      <td>73.1400</td>\n",
       "      <td>71.8200</td>\n",
       "      <td>71.8200</td>\n",
       "      <td>129597.0</td>\n",
       "      <td>0.0055</td>\n",
       "      <td>1.4545</td>\n",
       "      <td>74.8536</td>\n",
       "      <td>74.4949</td>\n",
       "      <td>0.0547</td>\n",
       "      <td>Real Estate</td>\n",
       "      <td>REIT - Retail</td>\n",
       "    </tr>\n",
       "    <tr>\n",
       "      <th>153678</th>\n",
       "      <td>2024-12-31</td>\n",
       "      <td>VIE.PA</td>\n",
       "      <td>27.1100</td>\n",
       "      <td>27.2100</td>\n",
       "      <td>26.7700</td>\n",
       "      <td>26.8000</td>\n",
       "      <td>764730.0</td>\n",
       "      <td>0.0101</td>\n",
       "      <td>2.3957</td>\n",
       "      <td>28.1834</td>\n",
       "      <td>28.8469</td>\n",
       "      <td>0.0173</td>\n",
       "      <td>Industrials</td>\n",
       "      <td>Waste Management</td>\n",
       "    </tr>\n",
       "    <tr>\n",
       "      <th>153679</th>\n",
       "      <td>2024-12-31</td>\n",
       "      <td>VIV.PA</td>\n",
       "      <td>2.5730</td>\n",
       "      <td>2.5820</td>\n",
       "      <td>2.5030</td>\n",
       "      <td>2.5100</td>\n",
       "      <td>2203959.0</td>\n",
       "      <td>0.0235</td>\n",
       "      <td>1.7122</td>\n",
       "      <td>7.1942</td>\n",
       "      <td>9.2924</td>\n",
       "      <td>0.0185</td>\n",
       "      <td>Communication Services</td>\n",
       "      <td>Entertainment</td>\n",
       "    </tr>\n",
       "  </tbody>\n",
       "</table>\n",
       "<p>153680 rows × 14 columns</p>\n",
       "</div>"
      ],
      "text/plain": [
       "             date  ticker    close     high      low     open     volume  \\\n",
       "0      2010-01-04   AC.PA  21.0700  21.0700  20.5987  20.6312   868104.0   \n",
       "1      2010-01-04  ACA.PA   6.1843   6.1963   5.9866   6.0035  6105758.0   \n",
       "2      2010-01-04   AI.PA  30.8401  30.8401  30.3400  30.3400  1114568.0   \n",
       "3      2010-01-04  AIR.PA  11.2867  11.3351  11.2141  11.2948  2496013.0   \n",
       "4      2010-01-04   BN.PA  27.8601  27.9310  27.5249  27.5410  3685834.0   \n",
       "...           ...     ...      ...      ...      ...      ...        ...   \n",
       "153675 2024-12-31  TEP.PA  83.1200  83.9000  81.8800  81.8800    92904.0   \n",
       "153676 2024-12-31  TTE.PA  52.5800  52.5800  51.7918  51.8411  1503880.0   \n",
       "153677 2024-12-31  URW.PA  72.7200  73.1400  71.8200  71.8200   129597.0   \n",
       "153678 2024-12-31  VIE.PA  27.1100  27.2100  26.7700  26.8000   764730.0   \n",
       "153679 2024-12-31  VIV.PA   2.5730   2.5820   2.5030   2.5100  2203959.0   \n",
       "\n",
       "        daily_return  cumulative_return   sma_50  sma_200  sharpe_ratio  \\\n",
       "0            -0.0062             0.9938  20.1172  20.9121        0.0162   \n",
       "1            -0.0062             0.9938  20.1172  20.9121        0.0163   \n",
       "2            -0.0062             0.9938  20.1172  20.9121        0.0330   \n",
       "3            -0.0062             0.9938  20.1172  20.9121        0.0390   \n",
       "4            -0.0062             0.9938  20.1172  20.9121        0.0173   \n",
       "...              ...                ...      ...      ...           ...   \n",
       "153675        0.0171             4.5523  90.0856  96.5467        0.0261   \n",
       "153676        0.0146             2.7080  54.9660  59.9934        0.0193   \n",
       "153677        0.0055             1.4545  74.8536  74.4949        0.0547   \n",
       "153678        0.0101             2.3957  28.1834  28.8469        0.0173   \n",
       "153679        0.0235             1.7122   7.1942   9.2924        0.0185   \n",
       "\n",
       "                        sector                     industry  \n",
       "0            Consumer Cyclical                      Lodging  \n",
       "1           Financial Services             Banks - Regional  \n",
       "2              Basic Materials          Specialty Chemicals  \n",
       "3                  Industrials          Aerospace & Defense  \n",
       "4           Consumer Defensive               Packaged Foods  \n",
       "...                        ...                          ...  \n",
       "153675             Industrials  Specialty Business Services  \n",
       "153676                  Energy         Oil & Gas Integrated  \n",
       "153677             Real Estate                REIT - Retail  \n",
       "153678             Industrials             Waste Management  \n",
       "153679  Communication Services                Entertainment  \n",
       "\n",
       "[153680 rows x 14 columns]"
      ]
     },
     "execution_count": 20,
     "metadata": {},
     "output_type": "execute_result"
    }
   ],
   "source": [
    "stock_prices"
   ]
  },
  {
   "cell_type": "code",
   "execution_count": null,
   "id": "9394b974",
   "metadata": {},
   "outputs": [],
   "source": []
  }
 ],
 "metadata": {
  "kernelspec": {
   "display_name": "base",
   "language": "python",
   "name": "python3"
  },
  "language_info": {
   "codemirror_mode": {
    "name": "ipython",
    "version": 3
   },
   "file_extension": ".py",
   "mimetype": "text/x-python",
   "name": "python",
   "nbconvert_exporter": "python",
   "pygments_lexer": "ipython3",
   "version": "3.12.2"
  }
 },
 "nbformat": 4,
 "nbformat_minor": 5
}
